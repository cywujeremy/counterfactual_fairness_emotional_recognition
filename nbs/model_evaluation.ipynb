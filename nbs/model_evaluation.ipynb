{
 "cells": [
  {
   "cell_type": "markdown",
   "metadata": {},
   "source": [
    "## Model Evaluation"
   ]
  },
  {
   "cell_type": "code",
   "execution_count": 2,
   "metadata": {},
   "outputs": [
    {
     "data": {
      "text/plain": [
       "'/root/autodl-tmp/counterfactual_fairness_emotional_recognition'"
      ]
     },
     "execution_count": 2,
     "metadata": {},
     "output_type": "execute_result"
    }
   ],
   "source": [
    "import os\n",
    "os.chdir('..')\n",
    "%pwd"
   ]
  },
  {
   "cell_type": "code",
   "execution_count": 3,
   "metadata": {},
   "outputs": [],
   "source": [
    "import pickle\n",
    "import numpy as np\n",
    "import torch\n",
    "import torch.nn as nn\n",
    "from torch.utils.data import DataLoader\n",
    "from train import test\n",
    "from datasets import IEMOCAPEval"
   ]
  },
  {
   "cell_type": "markdown",
   "metadata": {},
   "source": [
    "### Setting up test dataset"
   ]
  },
  {
   "cell_type": "code",
   "execution_count": 4,
   "metadata": {},
   "outputs": [],
   "source": [
    "test_dataset = IEMOCAPEval(partition='test')\n",
    "test_loader = DataLoader(test_dataset, batch_size=128, shuffle=False, num_workers=1, pin_memory=True)"
   ]
  },
  {
   "cell_type": "code",
   "execution_count": 5,
   "metadata": {},
   "outputs": [],
   "source": [
    "CHECKPOINT_MODEL_DIR1 = \"checkpoint/20220429_114253/model_locked_dropout_activation_reg_twin.pth\"\n",
    "model1 = torch.load(CHECKPOINT_MODEL_DIR1).cuda()\n",
    "\n",
    "CHECKPOINT_MODEL_DIR2 = \"checkpoint/20220429_135037/model_locked_dropout_activation_reg_vanilla.pth\"\n",
    "model2 = torch.load(CHECKPOINT_MODEL_DIR2).cuda()\n",
    "criterion = nn.CrossEntropyLoss()"
   ]
  },
  {
   "cell_type": "markdown",
   "metadata": {},
   "source": [
    "### Evaluate model on test set"
   ]
  },
  {
   "cell_type": "code",
   "execution_count": 6,
   "metadata": {},
   "outputs": [
    {
     "name": "stdout",
     "output_type": "stream",
     "text": [
      "*****************************************************************\n",
      "Evaluation on Test Set:\n",
      "Test cost: 1.37\n",
      "Test accuracy: 0.371\n",
      "Test UAR: 0.4618\n",
      "Test Confusion Matrix:[\"ang\",\"sad\",\"hap\",\"neu\"]\n",
      "[[19  2  4  4]\n",
      " [ 7 63 16 24]\n",
      " [21  8 28 14]\n",
      " [24 64 81 49]]\n",
      "Fairness Scores (in terms of equal opportunities):\n",
      "[\"ang\",\"sad\",\"hap\",\"neu\"]\n",
      "[0.625      0.80660377 0.96153846 0.87689594]\n",
      "*****************************************************************\n"
     ]
    }
   ],
   "source": [
    "test(model1, test_loader, test_dataset, criterion)"
   ]
  },
  {
   "cell_type": "code",
   "execution_count": 7,
   "metadata": {},
   "outputs": [
    {
     "name": "stdout",
     "output_type": "stream",
     "text": [
      "*****************************************************************\n",
      "Evaluation on Test Set:\n",
      "Test cost: 1.34\n",
      "Test accuracy: 0.388\n",
      "Test UAR: 0.4693\n",
      "Test Confusion Matrix:[\"ang\",\"sad\",\"hap\",\"neu\"]\n",
      "[[23  1  2  3]\n",
      " [16 55 13 26]\n",
      " [26  8 19 18]\n",
      " [42 76 31 69]]\n",
      "Fairness Scores (in terms of equal opportunities):\n",
      "[\"ang\",\"sad\",\"hap\",\"neu\"]\n",
      "[0.82417582 0.71698113 0.32451923 0.85176991]\n",
      "*****************************************************************\n"
     ]
    }
   ],
   "source": [
    "test(model2, test_loader, test_dataset, criterion)"
   ]
  }
 ],
 "metadata": {
  "interpreter": {
   "hash": "2f394aca7ca06fed1e6064aef884364492d7cdda3614a461e02e6407fc40ba69"
  },
  "kernelspec": {
   "display_name": "Python 3.8.10 ('base')",
   "language": "python",
   "name": "python3"
  },
  "language_info": {
   "codemirror_mode": {
    "name": "ipython",
    "version": 3
   },
   "file_extension": ".py",
   "mimetype": "text/x-python",
   "name": "python",
   "nbconvert_exporter": "python",
   "pygments_lexer": "ipython3",
   "version": "3.8.10"
  },
  "orig_nbformat": 4
 },
 "nbformat": 4,
 "nbformat_minor": 2
}
