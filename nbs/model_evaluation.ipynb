{
 "cells": [
  {
   "cell_type": "markdown",
   "metadata": {},
   "source": [
    "## Model Evaluation"
   ]
  },
  {
   "cell_type": "code",
   "execution_count": 1,
   "metadata": {},
   "outputs": [
    {
     "data": {
      "text/plain": [
       "'/root/autodl-tmp/counterfactual_fairness_emotional_recognition'"
      ]
     },
     "execution_count": 1,
     "metadata": {},
     "output_type": "execute_result"
    }
   ],
   "source": [
    "import os\n",
    "os.chdir('..')\n",
    "%pwd"
   ]
  },
  {
   "cell_type": "code",
   "execution_count": 2,
   "metadata": {},
   "outputs": [],
   "source": [
    "import pickle\n",
    "import numpy as np\n",
    "import torch\n",
    "import torch.nn as nn\n",
    "from torch.utils.data import DataLoader\n",
    "from train import test\n",
    "from datasets import IEMOCAPEval"
   ]
  },
  {
   "cell_type": "markdown",
   "metadata": {},
   "source": [
    "### Setting up test dataset"
   ]
  },
  {
   "cell_type": "code",
   "execution_count": 3,
   "metadata": {},
   "outputs": [],
   "source": [
    "test_dataset = IEMOCAPEval(partition='test')\n",
    "test_loader = DataLoader(test_dataset, batch_size=128, shuffle=False, num_workers=1, pin_memory=True)\n",
    "\n",
    "CHECKPOINT_MODEL_DIR = \"checkpoint/20220424_100531/model_acrnn_locked_dropout_act_reg0.3_0.5406.pth\"\n",
    "model = torch.load(CHECKPOINT_MODEL_DIR).cuda()\n",
    "criterion = nn.CrossEntropyLoss()"
   ]
  },
  {
   "cell_type": "markdown",
   "metadata": {},
   "source": [
    "### Evaluate model on test set"
   ]
  },
  {
   "cell_type": "code",
   "execution_count": 4,
   "metadata": {},
   "outputs": [
    {
     "name": "stdout",
     "output_type": "stream",
     "text": [
      "*****************************************************************\n",
      "Evaluation on Test Set:\n",
      "Test cost: 1.3\n",
      "Test accuracy: 0.435\n",
      "Test UAR: 0.5062\n",
      "Test Confusion Matrix:[\"ang\",\"sad\",\"hap\",\"neu\"]\n",
      "[[25  2  1  1]\n",
      " [ 9 71 14 16]\n",
      " [29 12 11 19]\n",
      " [35 69 35 79]]\n",
      "Fairness Scores (in terms of equal opportunities):\n",
      "[\"ang\",\"sad\",\"hap\",\"neu\"]\n",
      "[0.84183673 0.83349057 0.69333333 0.95302927]\n",
      "*****************************************************************\n"
     ]
    }
   ],
   "source": [
    "test(model, test_loader, test_dataset, criterion)"
   ]
  }
 ],
 "metadata": {
  "interpreter": {
   "hash": "2f394aca7ca06fed1e6064aef884364492d7cdda3614a461e02e6407fc40ba69"
  },
  "kernelspec": {
   "display_name": "Python 3.8.10 ('base')",
   "language": "python",
   "name": "python3"
  },
  "language_info": {
   "codemirror_mode": {
    "name": "ipython",
    "version": 3
   },
   "file_extension": ".py",
   "mimetype": "text/x-python",
   "name": "python",
   "nbconvert_exporter": "python",
   "pygments_lexer": "ipython3",
   "version": "3.8.10"
  },
  "orig_nbformat": 4
 },
 "nbformat": 4,
 "nbformat_minor": 2
}
