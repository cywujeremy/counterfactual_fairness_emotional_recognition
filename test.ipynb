{
 "cells": [
  {
   "cell_type": "code",
   "execution_count": 9,
   "metadata": {},
   "outputs": [],
   "source": [
    "import os\n",
    "import glob"
   ]
  },
  {
   "cell_type": "code",
   "execution_count": 8,
   "metadata": {},
   "outputs": [
    {
     "data": {
      "text/plain": [
       "'E:/s\\\\abd\\\\abc\\\\d'"
      ]
     },
     "execution_count": 8,
     "metadata": {},
     "output_type": "execute_result"
    }
   ],
   "source": [
    "os.path.join('E:/s', 'abd', 'abc', 'd')"
   ]
  },
  {
   "cell_type": "code",
   "execution_count": 25,
   "metadata": {},
   "outputs": [
    {
     "data": {
      "text/plain": [
       "['Ses01F_impro01_F000.wav',\n",
       " 'Ses01F_impro01_F001.wav',\n",
       " 'Ses01F_impro01_F002.wav',\n",
       " 'Ses01F_impro01_F003.wav',\n",
       " 'Ses01F_impro01_F004.wav',\n",
       " 'Ses01F_impro01_F005.wav',\n",
       " 'Ses01F_impro01_F006.wav',\n",
       " 'Ses01F_impro01_F007.wav',\n",
       " 'Ses01F_impro01_F008.wav',\n",
       " 'Ses01F_impro01_F009.wav',\n",
       " 'Ses01F_impro01_F010.wav',\n",
       " 'Ses01F_impro01_F011.wav',\n",
       " 'Ses01F_impro01_F012.wav',\n",
       " 'Ses01F_impro01_F013.wav',\n",
       " 'Ses01F_impro01_F014.wav',\n",
       " 'Ses01F_impro01_F015.wav',\n",
       " 'Ses01F_impro01_M000.wav',\n",
       " 'Ses01F_impro01_M001.wav',\n",
       " 'Ses01F_impro01_M002.wav',\n",
       " 'Ses01F_impro01_M003.wav',\n",
       " 'Ses01F_impro01_M004.wav',\n",
       " 'Ses01F_impro01_M005.wav',\n",
       " 'Ses01F_impro01_M006.wav',\n",
       " 'Ses01F_impro01_M007.wav',\n",
       " 'Ses01F_impro01_M008.wav',\n",
       " 'Ses01F_impro01_M009.wav',\n",
       " 'Ses01F_impro01_M010.wav',\n",
       " 'Ses01F_impro01_M011.wav',\n",
       " 'Ses01F_impro01_M012.wav',\n",
       " 'Ses01F_impro01_M013.wav']"
      ]
     },
     "execution_count": 25,
     "metadata": {},
     "output_type": "execute_result"
    }
   ],
   "source": [
    "os.listdir(\"E:\\\\Download\\\\IEMOCAP_full_release_withoutVideos\\\\IEMOCAP_full_release\\\\Session1\\\\sentences\\\\wav\\\\Ses01F_impro01\\\\\")"
   ]
  },
  {
   "cell_type": "code",
   "execution_count": 18,
   "metadata": {},
   "outputs": [
    {
     "data": {
      "text/plain": [
       "'asbdiasf'"
      ]
     },
     "execution_count": 18,
     "metadata": {},
     "output_type": "execute_result"
    }
   ],
   "source": [
    "\"asbdiasf.wav\"[:-4]"
   ]
  },
  {
   "cell_type": "code",
   "execution_count": 19,
   "metadata": {},
   "outputs": [],
   "source": [
    "a = []\n",
    "b = [1, 2, 3]"
   ]
  },
  {
   "cell_type": "code",
   "execution_count": 21,
   "metadata": {},
   "outputs": [
    {
     "data": {
      "text/plain": [
       "[1, 2, 3, 1, 2, 3]"
      ]
     },
     "execution_count": 21,
     "metadata": {},
     "output_type": "execute_result"
    }
   ],
   "source": [
    "a + b + b"
   ]
  },
  {
   "cell_type": "code",
   "execution_count": 2,
   "metadata": {},
   "outputs": [],
   "source": [
    "from data.mfcc_extraction import IEMOCAP_Dataset\n",
    "\n",
    "ROOT = \"E:\\\\Download\\\\IEMOCAP_full_release_withoutVideos\\\\IEMOCAP_full_release\"\n",
    "iemocap = IEMOCAP_Dataset(root=ROOT)"
   ]
  },
  {
   "cell_type": "code",
   "execution_count": 2,
   "metadata": {},
   "outputs": [
    {
     "data": {
      "text/plain": [
       "'E:\\\\Download\\\\IEMOCAP_full_release_withoutVideos\\\\IEMOCAP_full_release\\\\Session1\\\\sentences\\\\wav\\\\Ses01F_impro01\\\\Ses01F_impro01_F000.wav'"
      ]
     },
     "execution_count": 2,
     "metadata": {},
     "output_type": "execute_result"
    }
   ],
   "source": [
    "iemocap.utterance_paths[0]"
   ]
  },
  {
   "cell_type": "code",
   "execution_count": 3,
   "metadata": {},
   "outputs": [
    {
     "data": {
      "text/plain": [
       "10039"
      ]
     },
     "execution_count": 3,
     "metadata": {},
     "output_type": "execute_result"
    }
   ],
   "source": [
    "len(iemocap.utterance_list)"
   ]
  },
  {
   "cell_type": "code",
   "execution_count": 3,
   "metadata": {},
   "outputs": [
    {
     "data": {
      "text/plain": [
       "10039"
      ]
     },
     "execution_count": 3,
     "metadata": {},
     "output_type": "execute_result"
    }
   ],
   "source": [
    "len(iemocap.label_map.items())"
   ]
  },
  {
   "cell_type": "code",
   "execution_count": 9,
   "metadata": {},
   "outputs": [
    {
     "name": "stdout",
     "output_type": "stream",
     "text": [
      "[ 31 -31 -23 ... -15 -11 -42]\n",
      "[0.0000000e+00 6.2500000e-05 1.2500000e-04 ... 1.3822500e+00 1.3823125e+00\n",
      " 1.3823750e+00]\n"
     ]
    }
   ],
   "source": [
    "import wave\n",
    "import numpy as np\n",
    "import python_speech_features as psf\n",
    "\n",
    "PATH = iemocap.utterance_paths[1]\n",
    "with wave.open(PATH, 'r') as f:\n",
    "    nchannels, sampwidth, framerate, wav_length = f.getparams()[:4]\n",
    "    data = np.frombuffer(f.readframes(wav_length), dtype=np.short)\n",
    "    print(data)\n",
    "    time = np.arange(0,wav_length) * (1.0/framerate)\n",
    "    print(time)"
   ]
  },
  {
   "cell_type": "code",
   "execution_count": 10,
   "metadata": {},
   "outputs": [
    {
     "data": {
      "text/plain": [
       "(137, 40)"
      ]
     },
     "metadata": {},
     "output_type": "display_data"
    },
    {
     "data": {
      "text/plain": [
       "(137, 40)"
      ]
     },
     "metadata": {},
     "output_type": "display_data"
    },
    {
     "data": {
      "text/plain": [
       "(137, 40)"
      ]
     },
     "metadata": {},
     "output_type": "display_data"
    }
   ],
   "source": [
    "mel_spec = psf.logfbank(data, framerate, nfilt=40)\n",
    "delta1 = psf.delta(mel_spec, 2)\n",
    "delta2 = psf.delta(delta1, 2)\n",
    "display(mel_spec.shape)\n",
    "display(delta1.shape)\n",
    "display(delta2.shape)"
   ]
  },
  {
   "cell_type": "code",
   "execution_count": 19,
   "metadata": {},
   "outputs": [
    {
     "data": {
      "text/plain": [
       "(137, 3, 40)"
      ]
     },
     "execution_count": 19,
     "metadata": {},
     "output_type": "execute_result"
    }
   ],
   "source": [
    "np.stack((mel_spec, delta1, delta2), axis=1).shape"
   ]
  },
  {
   "cell_type": "code",
   "execution_count": 21,
   "metadata": {},
   "outputs": [
    {
     "data": {
      "text/plain": [
       "'Ses01'"
      ]
     },
     "execution_count": 21,
     "metadata": {},
     "output_type": "execute_result"
    }
   ],
   "source": [
    "'Ses01F_impro01_F000'[:5]"
   ]
  },
  {
   "cell_type": "code",
   "execution_count": 24,
   "metadata": {},
   "outputs": [
    {
     "data": {
      "text/plain": [
       "array([1, array([[[2, 4, 2],\n",
       "                  [2, 2, 4],\n",
       "                  [3, 3, 4]],\n",
       "\n",
       "                 [[4, 3, 3],\n",
       "                  [0, 3, 0],\n",
       "                  [1, 1, 0]],\n",
       "\n",
       "                 [[4, 3, 2],\n",
       "                  [2, 1, 2],\n",
       "                  [2, 2, 4]]])], dtype=object)"
      ]
     },
     "execution_count": 24,
     "metadata": {},
     "output_type": "execute_result"
    }
   ],
   "source": [
    "import numpy as np\n",
    "\n",
    "a = np.random.randint(5, size=(3,3,3))\n",
    "b = 1\n",
    "\n",
    "np.array((b, a), dtype=object)"
   ]
  },
  {
   "cell_type": "code",
   "execution_count": 25,
   "metadata": {},
   "outputs": [],
   "source": [
    "sample = np.load(\"E:\\\\Download\\\\IEMOCAP_full_release_withoutVideos\\\\data\\\\train\\\\Ses01F_impro01_F000.npy\", allow_pickle=True)"
   ]
  },
  {
   "cell_type": "code",
   "execution_count": 27,
   "metadata": {},
   "outputs": [
    {
     "data": {
      "text/plain": [
       "(194, 3, 40)"
      ]
     },
     "execution_count": 27,
     "metadata": {},
     "output_type": "execute_result"
    }
   ],
   "source": [
    "sample[1].shape"
   ]
  }
 ],
 "metadata": {
  "interpreter": {
   "hash": "8ab0d968002a578cf1e1aa041721a175249ba338f6da29efa5ef1a380c630376"
  },
  "kernelspec": {
   "display_name": "Python 3.7.11 ('base')",
   "language": "python",
   "name": "python3"
  },
  "language_info": {
   "codemirror_mode": {
    "name": "ipython",
    "version": 3
   },
   "file_extension": ".py",
   "mimetype": "text/x-python",
   "name": "python",
   "nbconvert_exporter": "python",
   "pygments_lexer": "ipython3",
   "version": "3.7.11"
  },
  "orig_nbformat": 4
 },
 "nbformat": 4,
 "nbformat_minor": 2
}
