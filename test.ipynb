{
 "cells": [
  {
   "cell_type": "code",
   "execution_count": 9,
   "metadata": {},
   "outputs": [],
   "source": [
    "import os\n",
    "import glob"
   ]
  },
  {
   "cell_type": "code",
   "execution_count": 8,
   "metadata": {},
   "outputs": [
    {
     "data": {
      "text/plain": [
       "'E:/s\\\\abd\\\\abc\\\\d'"
      ]
     },
     "execution_count": 8,
     "metadata": {},
     "output_type": "execute_result"
    }
   ],
   "source": [
    "os.path.join('E:/s', 'abd', 'abc', 'd')"
   ]
  },
  {
   "cell_type": "code",
   "execution_count": 25,
   "metadata": {},
   "outputs": [
    {
     "data": {
      "text/plain": [
       "['Ses01F_impro01_F000.wav',\n",
       " 'Ses01F_impro01_F001.wav',\n",
       " 'Ses01F_impro01_F002.wav',\n",
       " 'Ses01F_impro01_F003.wav',\n",
       " 'Ses01F_impro01_F004.wav',\n",
       " 'Ses01F_impro01_F005.wav',\n",
       " 'Ses01F_impro01_F006.wav',\n",
       " 'Ses01F_impro01_F007.wav',\n",
       " 'Ses01F_impro01_F008.wav',\n",
       " 'Ses01F_impro01_F009.wav',\n",
       " 'Ses01F_impro01_F010.wav',\n",
       " 'Ses01F_impro01_F011.wav',\n",
       " 'Ses01F_impro01_F012.wav',\n",
       " 'Ses01F_impro01_F013.wav',\n",
       " 'Ses01F_impro01_F014.wav',\n",
       " 'Ses01F_impro01_F015.wav',\n",
       " 'Ses01F_impro01_M000.wav',\n",
       " 'Ses01F_impro01_M001.wav',\n",
       " 'Ses01F_impro01_M002.wav',\n",
       " 'Ses01F_impro01_M003.wav',\n",
       " 'Ses01F_impro01_M004.wav',\n",
       " 'Ses01F_impro01_M005.wav',\n",
       " 'Ses01F_impro01_M006.wav',\n",
       " 'Ses01F_impro01_M007.wav',\n",
       " 'Ses01F_impro01_M008.wav',\n",
       " 'Ses01F_impro01_M009.wav',\n",
       " 'Ses01F_impro01_M010.wav',\n",
       " 'Ses01F_impro01_M011.wav',\n",
       " 'Ses01F_impro01_M012.wav',\n",
       " 'Ses01F_impro01_M013.wav']"
      ]
     },
     "execution_count": 25,
     "metadata": {},
     "output_type": "execute_result"
    }
   ],
   "source": [
    "os.listdir(\"E:\\\\Download\\\\IEMOCAP_full_release_withoutVideos\\\\IEMOCAP_full_release\\\\Session1\\\\sentences\\\\wav\\\\Ses01F_impro01\\\\\")"
   ]
  },
  {
   "cell_type": "code",
   "execution_count": 18,
   "metadata": {},
   "outputs": [
    {
     "data": {
      "text/plain": [
       "'asbdiasf'"
      ]
     },
     "execution_count": 18,
     "metadata": {},
     "output_type": "execute_result"
    }
   ],
   "source": [
    "\"asbdiasf.wav\"[:-4]"
   ]
  },
  {
   "cell_type": "code",
   "execution_count": 19,
   "metadata": {},
   "outputs": [],
   "source": [
    "a = []\n",
    "b = [1, 2, 3]"
   ]
  },
  {
   "cell_type": "code",
   "execution_count": 21,
   "metadata": {},
   "outputs": [
    {
     "data": {
      "text/plain": [
       "[1, 2, 3, 1, 2, 3]"
      ]
     },
     "execution_count": 21,
     "metadata": {},
     "output_type": "execute_result"
    }
   ],
   "source": [
    "a + b + b"
   ]
  },
  {
   "cell_type": "code",
   "execution_count": 9,
   "metadata": {},
   "outputs": [],
   "source": [
    "from data.mfcc_extraction import IEMOCAP_Dataset\n",
    "\n",
    "ROOT = \"E:\\\\Download\\\\IEMOCAP_full_release_withoutVideos\\\\IEMOCAP_full_release\"\n",
    "iemocap = IEMOCAP_Dataset(root=ROOT)"
   ]
  },
  {
   "cell_type": "code",
   "execution_count": 10,
   "metadata": {},
   "outputs": [
    {
     "data": {
      "text/plain": [
       "array(['ang', 'dis', 'exc', 'fea', 'fru', 'hap', 'neu', 'oth', 'sad',\n",
       "       'sur', 'xxx'], dtype='<U3')"
      ]
     },
     "execution_count": 10,
     "metadata": {},
     "output_type": "execute_result"
    }
   ],
   "source": [
    "iemocap.LABELS"
   ]
  },
  {
   "cell_type": "code",
   "execution_count": 2,
   "metadata": {},
   "outputs": [
    {
     "data": {
      "text/plain": [
       "'E:\\\\Download\\\\IEMOCAP_full_release_withoutVideos\\\\IEMOCAP_full_release\\\\Session1\\\\sentences\\\\wav\\\\Ses01F_impro01\\\\Ses01F_impro01_F000.wav'"
      ]
     },
     "execution_count": 2,
     "metadata": {},
     "output_type": "execute_result"
    }
   ],
   "source": [
    "iemocap.utterance_paths[0]"
   ]
  },
  {
   "cell_type": "code",
   "execution_count": 3,
   "metadata": {},
   "outputs": [
    {
     "data": {
      "text/plain": [
       "10039"
      ]
     },
     "execution_count": 3,
     "metadata": {},
     "output_type": "execute_result"
    }
   ],
   "source": [
    "len(iemocap.utterance_list)"
   ]
  },
  {
   "cell_type": "code",
   "execution_count": 3,
   "metadata": {},
   "outputs": [
    {
     "data": {
      "text/plain": [
       "10039"
      ]
     },
     "execution_count": 3,
     "metadata": {},
     "output_type": "execute_result"
    }
   ],
   "source": [
    "len(iemocap.label_map.items())"
   ]
  },
  {
   "cell_type": "code",
   "execution_count": 9,
   "metadata": {},
   "outputs": [
    {
     "name": "stdout",
     "output_type": "stream",
     "text": [
      "[ 31 -31 -23 ... -15 -11 -42]\n",
      "[0.0000000e+00 6.2500000e-05 1.2500000e-04 ... 1.3822500e+00 1.3823125e+00\n",
      " 1.3823750e+00]\n"
     ]
    }
   ],
   "source": [
    "import wave\n",
    "import numpy as np\n",
    "import python_speech_features as psf\n",
    "\n",
    "PATH = iemocap.utterance_paths[1]\n",
    "with wave.open(PATH, 'r') as f:\n",
    "    nchannels, sampwidth, framerate, wav_length = f.getparams()[:4]\n",
    "    data = np.frombuffer(f.readframes(wav_length), dtype=np.short)\n",
    "    print(data)\n",
    "    time = np.arange(0,wav_length) * (1.0/framerate)\n",
    "    print(time)"
   ]
  },
  {
   "cell_type": "code",
   "execution_count": 10,
   "metadata": {},
   "outputs": [
    {
     "data": {
      "text/plain": [
       "(137, 40)"
      ]
     },
     "metadata": {},
     "output_type": "display_data"
    },
    {
     "data": {
      "text/plain": [
       "(137, 40)"
      ]
     },
     "metadata": {},
     "output_type": "display_data"
    },
    {
     "data": {
      "text/plain": [
       "(137, 40)"
      ]
     },
     "metadata": {},
     "output_type": "display_data"
    }
   ],
   "source": [
    "mel_spec = psf.logfbank(data, framerate, nfilt=40)\n",
    "delta1 = psf.delta(mel_spec, 2)\n",
    "delta2 = psf.delta(delta1, 2)\n",
    "display(mel_spec.shape)\n",
    "display(delta1.shape)\n",
    "display(delta2.shape)"
   ]
  },
  {
   "cell_type": "code",
   "execution_count": 19,
   "metadata": {},
   "outputs": [
    {
     "data": {
      "text/plain": [
       "(137, 3, 40)"
      ]
     },
     "execution_count": 19,
     "metadata": {},
     "output_type": "execute_result"
    }
   ],
   "source": [
    "np.stack((mel_spec, delta1, delta2), axis=1).shape"
   ]
  },
  {
   "cell_type": "code",
   "execution_count": 21,
   "metadata": {},
   "outputs": [
    {
     "data": {
      "text/plain": [
       "'Ses01'"
      ]
     },
     "execution_count": 21,
     "metadata": {},
     "output_type": "execute_result"
    }
   ],
   "source": [
    "'Ses01F_impro01_F000'[:5]"
   ]
  },
  {
   "cell_type": "code",
   "execution_count": 1,
   "metadata": {},
   "outputs": [
    {
     "data": {
      "text/plain": [
       "array([1, array([[[2, 2, 4],\n",
       "                  [0, 2, 1],\n",
       "                  [0, 3, 0]],\n",
       "\n",
       "                 [[1, 2, 0],\n",
       "                  [2, 0, 3],\n",
       "                  [0, 4, 3]],\n",
       "\n",
       "                 [[0, 1, 3],\n",
       "                  [0, 2, 3],\n",
       "                  [3, 1, 0]]])], dtype=object)"
      ]
     },
     "execution_count": 1,
     "metadata": {},
     "output_type": "execute_result"
    }
   ],
   "source": [
    "import numpy as np\n",
    "\n",
    "a = np.random.randint(5, size=(3,3,3))\n",
    "b = 1\n",
    "\n",
    "np.array((b, a), dtype=object)"
   ]
  },
  {
   "cell_type": "code",
   "execution_count": 2,
   "metadata": {},
   "outputs": [],
   "source": [
    "sample = np.load(\"E:\\\\Download\\\\IEMOCAP_full_release_withoutVideos\\\\data\\\\train\\\\Ses01F_impro01_F000.npy\", allow_pickle=True)"
   ]
  },
  {
   "cell_type": "code",
   "execution_count": 3,
   "metadata": {},
   "outputs": [
    {
     "data": {
      "text/plain": [
       "(194, 3, 40)"
      ]
     },
     "execution_count": 3,
     "metadata": {},
     "output_type": "execute_result"
    }
   ],
   "source": [
    "sample[1].shape"
   ]
  },
  {
   "cell_type": "code",
   "execution_count": 22,
   "metadata": {},
   "outputs": [
    {
     "data": {
      "text/plain": [
       "(300, 3, 40)"
      ]
     },
     "execution_count": 22,
     "metadata": {},
     "output_type": "execute_result"
    }
   ],
   "source": [
    "np.pad(sample[1], ((0, 106), (0, 0), (0, 0))).shape"
   ]
  },
  {
   "cell_type": "code",
   "execution_count": 5,
   "metadata": {},
   "outputs": [
    {
     "data": {
      "text/plain": [
       "torch.Size([194, 3, 40])"
      ]
     },
     "execution_count": 5,
     "metadata": {},
     "output_type": "execute_result"
    }
   ],
   "source": [
    "import torch\n",
    "import torch.nn as nn\n",
    "\n",
    "sample_data = torch.tensor(sample[1])\n",
    "sample_data.shape"
   ]
  },
  {
   "cell_type": "code",
   "execution_count": 20,
   "metadata": {},
   "outputs": [
    {
     "data": {
      "text/plain": [
       "torch.Size([300, 3, 40])"
      ]
     },
     "execution_count": 20,
     "metadata": {},
     "output_type": "execute_result"
    }
   ],
   "source": [
    "nn.functional.pad(sample_data, (0, 0, 0, 0, 0, 300 - 194)).shape"
   ]
  },
  {
   "cell_type": "code",
   "execution_count": 10,
   "metadata": {},
   "outputs": [],
   "source": [
    "import pickle\n",
    "\n",
    "with open(\"data/IEMOCAP.pkl\", \"rb\") as f:\n",
    "\n",
    "    data = pickle.load(f)"
   ]
  },
  {
   "cell_type": "code",
   "execution_count": 11,
   "metadata": {},
   "outputs": [
    {
     "data": {
      "text/plain": [
       "(1200, 300, 40, 3)"
      ]
     },
     "execution_count": 11,
     "metadata": {},
     "output_type": "execute_result"
    }
   ],
   "source": [
    "data[0].shape"
   ]
  },
  {
   "cell_type": "code",
   "execution_count": 12,
   "metadata": {},
   "outputs": [
    {
     "name": "stdout",
     "output_type": "stream",
     "text": [
      "(1200, 300, 40, 3)\n",
      "(1200, 1)\n",
      "(420, 300, 40, 3)\n",
      "(259, 1)\n",
      "(436, 300, 40, 3)\n",
      "(298, 1)\n",
      "(436, 1)\n",
      "(420, 1)\n",
      "(259,)\n",
      "(298,)\n"
     ]
    }
   ],
   "source": [
    "for i in range(len(data)):\n",
    "    \n",
    "    print(data[i].shape)"
   ]
  },
  {
   "cell_type": "code",
   "execution_count": 19,
   "metadata": {},
   "outputs": [
    {
     "data": {
      "text/plain": [
       "(10, 300, 40, 3)"
      ]
     },
     "execution_count": 19,
     "metadata": {},
     "output_type": "execute_result"
    }
   ],
   "source": [
    "data[0][:10].shape"
   ]
  },
  {
   "cell_type": "code",
   "execution_count": 16,
   "metadata": {},
   "outputs": [
    {
     "data": {
      "text/plain": [
       "(1200, 1)"
      ]
     },
     "execution_count": 16,
     "metadata": {},
     "output_type": "execute_result"
    }
   ],
   "source": [
    "data[1].shape"
   ]
  },
  {
   "cell_type": "code",
   "execution_count": 6,
   "metadata": {},
   "outputs": [],
   "source": [
    "import torch\n",
    "import torch.nn as nn\n",
    "import torch.nn.functional as F\n",
    "\n",
    "class acrnn(nn.Module):\n",
    "    def __init__(self, num_classes=4, is_training=True,\n",
    "                 L1=128, L2=256, cell_units=128, num_linear=768,\n",
    "                 p=10, time_step=150, F1=64, dropout_keep_prob=1):\n",
    "        super(acrnn, self).__init__()\n",
    "\n",
    "        self.num_classes = num_classes\n",
    "        self.is_training = is_training\n",
    "        self.L1 = L1\n",
    "        self.L2 = L2\n",
    "        self.cell_units = cell_units\n",
    "        self.num_linear = num_linear\n",
    "        self.p = p\n",
    "        self.time_step = time_step\n",
    "        self.F1 = F1\n",
    "        self.dropout_prob = 1 - dropout_keep_prob\n",
    "\n",
    "        # tf filter : [filter_height, filter_width, in_channels, out_channels]\n",
    "        self.conv1 = nn.Conv2d(3, self.L1, (5, 3), padding=(2, 1))       # [5, 3,   3, 128]  \n",
    "        self.conv2 = nn.Conv2d(self.L1, self.L2, (5, 3), padding=(2, 1)) # [5, 3, 128, 256]\n",
    "        self.conv3 = nn.Conv2d(self.L2, self.L2, (5, 3), padding=(2, 1)) # [5, 3, 256, 256]\n",
    "        self.conv4 = nn.Conv2d(self.L2, self.L2, (5, 3), padding=(2, 1)) # [5, 3, 256, 256]\n",
    "        self.conv5 = nn.Conv2d(self.L2, self.L2, (5, 3), padding=(2, 1)) # [5, 3, 128, 256]\n",
    "        self.conv6 = nn.Conv2d(self.L2, self.L2, (5, 3), padding=(2, 1)) # [5, 3, 128, 256]\n",
    "\n",
    "        self.linear1 = nn.Linear(self.p*self.L2, self.num_linear) # [10*256, 768]\n",
    "        self.bn = nn.BatchNorm1d(self.num_linear)\n",
    "\n",
    "        self.relu = nn.LeakyReLU(0.01)\n",
    "        self.dropout = nn.Dropout2d(p=self.dropout_prob)\n",
    "        \n",
    "        self.rnn = nn.LSTM(input_size=self.num_linear, hidden_size=self.cell_units, \n",
    "                            batch_first=True, num_layers=1, bidirectional=True) \n",
    "\n",
    "        # for attention\n",
    "        self.a_fc1 = nn.Linear(2*self.cell_units, 1)  \n",
    "        self.a_fc2 = nn.Linear(1, 1)\n",
    "        self.sigmoid = nn.Sigmoid()\n",
    "        self.softmax = nn.Softmax(dim=1)\n",
    "\n",
    "        # fully connected layers\n",
    "        self.fc1 = nn.Linear(2*self.cell_units, self.F1) # [2*128, 64]\n",
    "        self.fc2 = nn.Linear(self.F1, self.num_classes) # [num_classes]\n",
    "\n",
    "    \n",
    "    def forward(self, x):\n",
    "        \n",
    "        layer1 = self.relu(self.conv1(x))\n",
    "        layer1 = F.max_pool2d(layer1, kernel_size=(2, 4), stride=(2, 4))   # [1,2,4,1], padding = 'valid'\n",
    "        layer1 = self.dropout(layer1)\n",
    "\n",
    "        layer2 = self.relu(self.conv2(layer1))\n",
    "        layer2 = self.dropout(layer2)\n",
    "        \n",
    "        layer3 = self.relu(self.conv3(layer2))\n",
    "        layer3 = self.dropout(layer3)\n",
    "\n",
    "        layer4 = self.relu(self.conv4(layer3))\n",
    "        layer4 = self.dropout(layer4)\n",
    "\n",
    "        layer5 = self.relu(self.conv5(layer4))\n",
    "        layer5 = self.dropout(layer5)\n",
    "\n",
    "        layer6 = self.relu(self.conv6(layer5))\n",
    "        layer6 = self.dropout(layer6)\n",
    "        \n",
    "        # lstm\n",
    "        layer6 = layer6.permute(0, 2, 3, 1)\n",
    "        layer6 = layer6.reshape(-1, self.time_step, self.L2*self.p)        # (-1, 150, 256*10)\n",
    "        layer6 = layer6.reshape(-1, self.L2*self.p)                        # (1500, 2560)\n",
    "\n",
    "        linear1 = self.relu(self.bn(self.linear1(layer6)))                 # [1500, 768]\n",
    "        linear1 = linear1.reshape(-1, self.time_step, self.num_linear)     # [10, 150, 768]\n",
    "        \n",
    "        outputs1, output_states1 = self.rnn(linear1)                       # outputs1 : [10, 150, 128] (B,T,D)\n",
    "\n",
    "        # # attention\n",
    "        v = self.sigmoid(self.a_fc1(outputs1))                  # (10, 150, 1)\n",
    "        alphas = self.softmax(self.a_fc2(v).squeeze())          # (B,T) shape, alphas are attention weights\n",
    "        gru = (alphas.unsqueeze(2) * outputs1).sum(axis=1)      # (B,D)\n",
    "        \n",
    "        # # fc\n",
    "        fully1 = self.relu(self.fc1(gru))\n",
    "        fully1 = self.dropout(fully1)\n",
    "        Ylogits = self.fc2(fully1)\n",
    "        Ylogits = self.softmax(Ylogits)\n",
    "\n",
    "        return Ylogits\n"
   ]
  },
  {
   "cell_type": "code",
   "execution_count": 50,
   "metadata": {},
   "outputs": [
    {
     "data": {
      "text/plain": [
       "torch.Size([10, 3, 300, 40])"
      ]
     },
     "execution_count": 50,
     "metadata": {},
     "output_type": "execute_result"
    }
   ],
   "source": [
    "import numpy as np\n",
    "# data_194 = torch.randint(0, 5, size=(10, 194, 40, 3))\n",
    "# data_194.transpose((0, 3, 1, 2))\n",
    "data_194 = torch.tensor(np.random.randint(3, size=(10, 300, 40, 3)).transpose((0, 3, 1, 2))).float()\n",
    "data_194.shape"
   ]
  },
  {
   "cell_type": "code",
   "execution_count": 2,
   "metadata": {},
   "outputs": [],
   "source": [
    "from dataset.datasets import IEMOCAPSamples\n",
    "from torch.utils.data import DataLoader\n",
    "\n",
    "PATH = \"data/data_tiny\"\n",
    "iemocap_samples = IEMOCAPSamples(PATH)\n",
    "iemocap_loader = DataLoader(iemocap_samples, batch_size=5)"
   ]
  },
  {
   "cell_type": "code",
   "execution_count": 2,
   "metadata": {},
   "outputs": [
    {
     "data": {
      "text/plain": [
       "6"
      ]
     },
     "execution_count": 2,
     "metadata": {},
     "output_type": "execute_result"
    }
   ],
   "source": [
    "len(iemocap_loader)"
   ]
  },
  {
   "cell_type": "code",
   "execution_count": 3,
   "metadata": {},
   "outputs": [],
   "source": [
    "X, y = next(iter(iemocap_loader))"
   ]
  },
  {
   "cell_type": "code",
   "execution_count": 4,
   "metadata": {},
   "outputs": [
    {
     "data": {
      "text/plain": [
       "torch.Size([5, 3, 1500, 40])"
      ]
     },
     "execution_count": 4,
     "metadata": {},
     "output_type": "execute_result"
    }
   ],
   "source": [
    "X.permute((0, 2, 1, 3)).shape"
   ]
  },
  {
   "cell_type": "code",
   "execution_count": 9,
   "metadata": {},
   "outputs": [
    {
     "ename": "RuntimeError",
     "evalue": "mat1 and mat2 shapes cannot be multiplied (5x1920000 and 2560x768)",
     "output_type": "error",
     "traceback": [
      "\u001b[1;31m---------------------------------------------------------------------------\u001b[0m",
      "\u001b[1;31mRuntimeError\u001b[0m                              Traceback (most recent call last)",
      "\u001b[1;32m~\\AppData\\Local\\Temp/ipykernel_16404/2076014071.py\u001b[0m in \u001b[0;36m<module>\u001b[1;34m\u001b[0m\n\u001b[0;32m      1\u001b[0m \u001b[0mmodel\u001b[0m \u001b[1;33m=\u001b[0m \u001b[0macrnn\u001b[0m\u001b[1;33m(\u001b[0m\u001b[0mnum_classes\u001b[0m\u001b[1;33m=\u001b[0m\u001b[1;36m11\u001b[0m\u001b[1;33m)\u001b[0m\u001b[1;33m\u001b[0m\u001b[1;33m\u001b[0m\u001b[0m\n\u001b[1;32m----> 2\u001b[1;33m \u001b[0my_preds\u001b[0m \u001b[1;33m=\u001b[0m \u001b[0mmodel\u001b[0m\u001b[1;33m(\u001b[0m\u001b[0mX\u001b[0m\u001b[1;33m.\u001b[0m\u001b[0mpermute\u001b[0m\u001b[1;33m(\u001b[0m\u001b[1;33m(\u001b[0m\u001b[1;36m0\u001b[0m\u001b[1;33m,\u001b[0m \u001b[1;36m2\u001b[0m\u001b[1;33m,\u001b[0m \u001b[1;36m1\u001b[0m\u001b[1;33m,\u001b[0m \u001b[1;36m3\u001b[0m\u001b[1;33m)\u001b[0m\u001b[1;33m)\u001b[0m\u001b[1;33m.\u001b[0m\u001b[0mfloat\u001b[0m\u001b[1;33m(\u001b[0m\u001b[1;33m)\u001b[0m\u001b[1;33m)\u001b[0m\u001b[1;33m\u001b[0m\u001b[1;33m\u001b[0m\u001b[0m\n\u001b[0m",
      "\u001b[1;32mE:\\ProgramData\\Anaconda3\\lib\\site-packages\\torch\\nn\\modules\\module.py\u001b[0m in \u001b[0;36m_call_impl\u001b[1;34m(self, *input, **kwargs)\u001b[0m\n\u001b[0;32m   1049\u001b[0m         if not (self._backward_hooks or self._forward_hooks or self._forward_pre_hooks or _global_backward_hooks\n\u001b[0;32m   1050\u001b[0m                 or _global_forward_hooks or _global_forward_pre_hooks):\n\u001b[1;32m-> 1051\u001b[1;33m             \u001b[1;32mreturn\u001b[0m \u001b[0mforward_call\u001b[0m\u001b[1;33m(\u001b[0m\u001b[1;33m*\u001b[0m\u001b[0minput\u001b[0m\u001b[1;33m,\u001b[0m \u001b[1;33m**\u001b[0m\u001b[0mkwargs\u001b[0m\u001b[1;33m)\u001b[0m\u001b[1;33m\u001b[0m\u001b[1;33m\u001b[0m\u001b[0m\n\u001b[0m\u001b[0;32m   1052\u001b[0m         \u001b[1;31m# Do not call functions when jit is used\u001b[0m\u001b[1;33m\u001b[0m\u001b[1;33m\u001b[0m\u001b[1;33m\u001b[0m\u001b[0m\n\u001b[0;32m   1053\u001b[0m         \u001b[0mfull_backward_hooks\u001b[0m\u001b[1;33m,\u001b[0m \u001b[0mnon_full_backward_hooks\u001b[0m \u001b[1;33m=\u001b[0m \u001b[1;33m[\u001b[0m\u001b[1;33m]\u001b[0m\u001b[1;33m,\u001b[0m \u001b[1;33m[\u001b[0m\u001b[1;33m]\u001b[0m\u001b[1;33m\u001b[0m\u001b[1;33m\u001b[0m\u001b[0m\n",
      "\u001b[1;32m~\\AppData\\Local\\Temp/ipykernel_16404/989580654.py\u001b[0m in \u001b[0;36mforward\u001b[1;34m(self, x)\u001b[0m\n\u001b[0;32m     76\u001b[0m         \u001b[0mlayer6\u001b[0m \u001b[1;33m=\u001b[0m \u001b[0mlayer6\u001b[0m\u001b[1;33m.\u001b[0m\u001b[0mreshape\u001b[0m\u001b[1;33m(\u001b[0m\u001b[0mlayer6\u001b[0m\u001b[1;33m.\u001b[0m\u001b[0mshape\u001b[0m\u001b[1;33m[\u001b[0m\u001b[1;36m0\u001b[0m\u001b[1;33m]\u001b[0m\u001b[1;33m,\u001b[0m \u001b[1;33m-\u001b[0m\u001b[1;36m1\u001b[0m\u001b[1;33m)\u001b[0m\u001b[1;33m\u001b[0m\u001b[1;33m\u001b[0m\u001b[0m\n\u001b[0;32m     77\u001b[0m \u001b[1;33m\u001b[0m\u001b[0m\n\u001b[1;32m---> 78\u001b[1;33m         \u001b[0mlinear1\u001b[0m \u001b[1;33m=\u001b[0m \u001b[0mself\u001b[0m\u001b[1;33m.\u001b[0m\u001b[0mrelu\u001b[0m\u001b[1;33m(\u001b[0m\u001b[0mself\u001b[0m\u001b[1;33m.\u001b[0m\u001b[0mbn\u001b[0m\u001b[1;33m(\u001b[0m\u001b[0mself\u001b[0m\u001b[1;33m.\u001b[0m\u001b[0mlinear1\u001b[0m\u001b[1;33m(\u001b[0m\u001b[0mlayer6\u001b[0m\u001b[1;33m)\u001b[0m\u001b[1;33m)\u001b[0m\u001b[1;33m)\u001b[0m                 \u001b[1;31m# [1500, 768]\u001b[0m\u001b[1;33m\u001b[0m\u001b[1;33m\u001b[0m\u001b[0m\n\u001b[0m\u001b[0;32m     79\u001b[0m         \u001b[0mlinear1\u001b[0m \u001b[1;33m=\u001b[0m \u001b[0mlinear1\u001b[0m\u001b[1;33m.\u001b[0m\u001b[0mreshape\u001b[0m\u001b[1;33m(\u001b[0m\u001b[1;33m-\u001b[0m\u001b[1;36m1\u001b[0m\u001b[1;33m,\u001b[0m \u001b[0mself\u001b[0m\u001b[1;33m.\u001b[0m\u001b[0mtime_step\u001b[0m\u001b[1;33m,\u001b[0m \u001b[0mself\u001b[0m\u001b[1;33m.\u001b[0m\u001b[0mnum_linear\u001b[0m\u001b[1;33m)\u001b[0m     \u001b[1;31m# [10, 150, 768]\u001b[0m\u001b[1;33m\u001b[0m\u001b[1;33m\u001b[0m\u001b[0m\n\u001b[0;32m     80\u001b[0m \u001b[1;33m\u001b[0m\u001b[0m\n",
      "\u001b[1;32mE:\\ProgramData\\Anaconda3\\lib\\site-packages\\torch\\nn\\modules\\module.py\u001b[0m in \u001b[0;36m_call_impl\u001b[1;34m(self, *input, **kwargs)\u001b[0m\n\u001b[0;32m   1049\u001b[0m         if not (self._backward_hooks or self._forward_hooks or self._forward_pre_hooks or _global_backward_hooks\n\u001b[0;32m   1050\u001b[0m                 or _global_forward_hooks or _global_forward_pre_hooks):\n\u001b[1;32m-> 1051\u001b[1;33m             \u001b[1;32mreturn\u001b[0m \u001b[0mforward_call\u001b[0m\u001b[1;33m(\u001b[0m\u001b[1;33m*\u001b[0m\u001b[0minput\u001b[0m\u001b[1;33m,\u001b[0m \u001b[1;33m**\u001b[0m\u001b[0mkwargs\u001b[0m\u001b[1;33m)\u001b[0m\u001b[1;33m\u001b[0m\u001b[1;33m\u001b[0m\u001b[0m\n\u001b[0m\u001b[0;32m   1052\u001b[0m         \u001b[1;31m# Do not call functions when jit is used\u001b[0m\u001b[1;33m\u001b[0m\u001b[1;33m\u001b[0m\u001b[1;33m\u001b[0m\u001b[0m\n\u001b[0;32m   1053\u001b[0m         \u001b[0mfull_backward_hooks\u001b[0m\u001b[1;33m,\u001b[0m \u001b[0mnon_full_backward_hooks\u001b[0m \u001b[1;33m=\u001b[0m \u001b[1;33m[\u001b[0m\u001b[1;33m]\u001b[0m\u001b[1;33m,\u001b[0m \u001b[1;33m[\u001b[0m\u001b[1;33m]\u001b[0m\u001b[1;33m\u001b[0m\u001b[1;33m\u001b[0m\u001b[0m\n",
      "\u001b[1;32mE:\\ProgramData\\Anaconda3\\lib\\site-packages\\torch\\nn\\modules\\linear.py\u001b[0m in \u001b[0;36mforward\u001b[1;34m(self, input)\u001b[0m\n\u001b[0;32m     94\u001b[0m \u001b[1;33m\u001b[0m\u001b[0m\n\u001b[0;32m     95\u001b[0m     \u001b[1;32mdef\u001b[0m \u001b[0mforward\u001b[0m\u001b[1;33m(\u001b[0m\u001b[0mself\u001b[0m\u001b[1;33m,\u001b[0m \u001b[0minput\u001b[0m\u001b[1;33m:\u001b[0m \u001b[0mTensor\u001b[0m\u001b[1;33m)\u001b[0m \u001b[1;33m->\u001b[0m \u001b[0mTensor\u001b[0m\u001b[1;33m:\u001b[0m\u001b[1;33m\u001b[0m\u001b[1;33m\u001b[0m\u001b[0m\n\u001b[1;32m---> 96\u001b[1;33m         \u001b[1;32mreturn\u001b[0m \u001b[0mF\u001b[0m\u001b[1;33m.\u001b[0m\u001b[0mlinear\u001b[0m\u001b[1;33m(\u001b[0m\u001b[0minput\u001b[0m\u001b[1;33m,\u001b[0m \u001b[0mself\u001b[0m\u001b[1;33m.\u001b[0m\u001b[0mweight\u001b[0m\u001b[1;33m,\u001b[0m \u001b[0mself\u001b[0m\u001b[1;33m.\u001b[0m\u001b[0mbias\u001b[0m\u001b[1;33m)\u001b[0m\u001b[1;33m\u001b[0m\u001b[1;33m\u001b[0m\u001b[0m\n\u001b[0m\u001b[0;32m     97\u001b[0m \u001b[1;33m\u001b[0m\u001b[0m\n\u001b[0;32m     98\u001b[0m     \u001b[1;32mdef\u001b[0m \u001b[0mextra_repr\u001b[0m\u001b[1;33m(\u001b[0m\u001b[0mself\u001b[0m\u001b[1;33m)\u001b[0m \u001b[1;33m->\u001b[0m \u001b[0mstr\u001b[0m\u001b[1;33m:\u001b[0m\u001b[1;33m\u001b[0m\u001b[1;33m\u001b[0m\u001b[0m\n",
      "\u001b[1;32mE:\\ProgramData\\Anaconda3\\lib\\site-packages\\torch\\nn\\functional.py\u001b[0m in \u001b[0;36mlinear\u001b[1;34m(input, weight, bias)\u001b[0m\n\u001b[0;32m   1845\u001b[0m     \u001b[1;32mif\u001b[0m \u001b[0mhas_torch_function_variadic\u001b[0m\u001b[1;33m(\u001b[0m\u001b[0minput\u001b[0m\u001b[1;33m,\u001b[0m \u001b[0mweight\u001b[0m\u001b[1;33m)\u001b[0m\u001b[1;33m:\u001b[0m\u001b[1;33m\u001b[0m\u001b[1;33m\u001b[0m\u001b[0m\n\u001b[0;32m   1846\u001b[0m         \u001b[1;32mreturn\u001b[0m \u001b[0mhandle_torch_function\u001b[0m\u001b[1;33m(\u001b[0m\u001b[0mlinear\u001b[0m\u001b[1;33m,\u001b[0m \u001b[1;33m(\u001b[0m\u001b[0minput\u001b[0m\u001b[1;33m,\u001b[0m \u001b[0mweight\u001b[0m\u001b[1;33m)\u001b[0m\u001b[1;33m,\u001b[0m \u001b[0minput\u001b[0m\u001b[1;33m,\u001b[0m \u001b[0mweight\u001b[0m\u001b[1;33m,\u001b[0m \u001b[0mbias\u001b[0m\u001b[1;33m=\u001b[0m\u001b[0mbias\u001b[0m\u001b[1;33m)\u001b[0m\u001b[1;33m\u001b[0m\u001b[1;33m\u001b[0m\u001b[0m\n\u001b[1;32m-> 1847\u001b[1;33m     \u001b[1;32mreturn\u001b[0m \u001b[0mtorch\u001b[0m\u001b[1;33m.\u001b[0m\u001b[0m_C\u001b[0m\u001b[1;33m.\u001b[0m\u001b[0m_nn\u001b[0m\u001b[1;33m.\u001b[0m\u001b[0mlinear\u001b[0m\u001b[1;33m(\u001b[0m\u001b[0minput\u001b[0m\u001b[1;33m,\u001b[0m \u001b[0mweight\u001b[0m\u001b[1;33m,\u001b[0m \u001b[0mbias\u001b[0m\u001b[1;33m)\u001b[0m\u001b[1;33m\u001b[0m\u001b[1;33m\u001b[0m\u001b[0m\n\u001b[0m\u001b[0;32m   1848\u001b[0m \u001b[1;33m\u001b[0m\u001b[0m\n\u001b[0;32m   1849\u001b[0m \u001b[1;33m\u001b[0m\u001b[0m\n",
      "\u001b[1;31mRuntimeError\u001b[0m: mat1 and mat2 shapes cannot be multiplied (5x1920000 and 2560x768)"
     ]
    }
   ],
   "source": [
    "model = acrnn(num_classes=11)\n",
    "y_preds = model(X.permute((0, 2, 1, 3)).float())"
   ]
  },
  {
   "cell_type": "code",
   "execution_count": 7,
   "metadata": {},
   "outputs": [
    {
     "data": {
      "text/plain": [
       "tensor([[0.0847, 0.0826, 0.0869, 0.0958, 0.0890, 0.0883, 0.0821, 0.0870, 0.0862,\n",
       "         0.1093, 0.1080],\n",
       "        [0.0887, 0.0778, 0.0914, 0.0964, 0.0899, 0.0919, 0.0789, 0.0907, 0.0810,\n",
       "         0.1100, 0.1034],\n",
       "        [0.0887, 0.0778, 0.0914, 0.0964, 0.0899, 0.0919, 0.0789, 0.0907, 0.0810,\n",
       "         0.1100, 0.1034],\n",
       "        [0.0887, 0.0778, 0.0914, 0.0964, 0.0899, 0.0919, 0.0789, 0.0907, 0.0810,\n",
       "         0.1100, 0.1034],\n",
       "        [0.0887, 0.0778, 0.0914, 0.0963, 0.0899, 0.0919, 0.0788, 0.0906, 0.0810,\n",
       "         0.1100, 0.1035],\n",
       "        [0.0851, 0.0876, 0.0801, 0.0962, 0.0843, 0.0858, 0.0906, 0.0870, 0.0914,\n",
       "         0.1037, 0.1082],\n",
       "        [0.0852, 0.0827, 0.0860, 0.0958, 0.0892, 0.0890, 0.0823, 0.0869, 0.0865,\n",
       "         0.1084, 0.1080],\n",
       "        [0.0887, 0.0778, 0.0914, 0.0964, 0.0899, 0.0919, 0.0789, 0.0907, 0.0810,\n",
       "         0.1100, 0.1034],\n",
       "        [0.0887, 0.0778, 0.0914, 0.0964, 0.0899, 0.0919, 0.0789, 0.0907, 0.0810,\n",
       "         0.1100, 0.1034],\n",
       "        [0.0887, 0.0778, 0.0914, 0.0963, 0.0899, 0.0919, 0.0788, 0.0906, 0.0810,\n",
       "         0.1100, 0.1035],\n",
       "        [0.0884, 0.0845, 0.0830, 0.0938, 0.0834, 0.0867, 0.0931, 0.0841, 0.0932,\n",
       "         0.1012, 0.1086],\n",
       "        [0.0887, 0.0778, 0.0914, 0.0964, 0.0899, 0.0919, 0.0789, 0.0907, 0.0810,\n",
       "         0.1100, 0.1034],\n",
       "        [0.0887, 0.0778, 0.0914, 0.0964, 0.0899, 0.0919, 0.0789, 0.0907, 0.0810,\n",
       "         0.1100, 0.1034],\n",
       "        [0.0887, 0.0778, 0.0914, 0.0964, 0.0899, 0.0919, 0.0789, 0.0907, 0.0810,\n",
       "         0.1100, 0.1034],\n",
       "        [0.0887, 0.0778, 0.0914, 0.0963, 0.0899, 0.0919, 0.0788, 0.0906, 0.0810,\n",
       "         0.1100, 0.1035],\n",
       "        [0.0836, 0.0888, 0.0797, 0.0951, 0.0845, 0.0851, 0.0897, 0.0879, 0.0899,\n",
       "         0.1070, 0.1087],\n",
       "        [0.0855, 0.0846, 0.0829, 0.0955, 0.0875, 0.0890, 0.0857, 0.0857, 0.0899,\n",
       "         0.1054, 0.1081],\n",
       "        [0.0887, 0.0778, 0.0914, 0.0964, 0.0899, 0.0919, 0.0789, 0.0907, 0.0810,\n",
       "         0.1100, 0.1034],\n",
       "        [0.0887, 0.0778, 0.0914, 0.0964, 0.0899, 0.0919, 0.0789, 0.0907, 0.0810,\n",
       "         0.1100, 0.1034],\n",
       "        [0.0887, 0.0778, 0.0914, 0.0963, 0.0899, 0.0919, 0.0788, 0.0906, 0.0810,\n",
       "         0.1100, 0.1035],\n",
       "        [0.0860, 0.0878, 0.0802, 0.0962, 0.0840, 0.0856, 0.0898, 0.0879, 0.0907,\n",
       "         0.1029, 0.1089],\n",
       "        [0.0867, 0.0811, 0.0862, 0.0945, 0.0886, 0.0904, 0.0839, 0.0850, 0.0873,\n",
       "         0.1085, 0.1078],\n",
       "        [0.0887, 0.0778, 0.0914, 0.0964, 0.0899, 0.0919, 0.0789, 0.0907, 0.0810,\n",
       "         0.1100, 0.1034],\n",
       "        [0.0887, 0.0778, 0.0914, 0.0964, 0.0899, 0.0919, 0.0789, 0.0907, 0.0810,\n",
       "         0.1100, 0.1034],\n",
       "        [0.0887, 0.0778, 0.0914, 0.0963, 0.0899, 0.0919, 0.0788, 0.0906, 0.0810,\n",
       "         0.1100, 0.1035]], grad_fn=<SoftmaxBackward>)"
      ]
     },
     "execution_count": 7,
     "metadata": {},
     "output_type": "execute_result"
    }
   ],
   "source": [
    "y_preds"
   ]
  },
  {
   "cell_type": "code",
   "execution_count": 16,
   "metadata": {},
   "outputs": [
    {
     "data": {
      "text/plain": [
       "tensor([[[[ 9.3616e+00,  9.5302e+00,  1.0740e+01,  ...,  1.1792e+01,\n",
       "            1.0565e+01,  1.0394e+01],\n",
       "          [-3.6884e-01, -3.7800e-01, -1.0049e-01,  ..., -2.3690e-01,\n",
       "           -5.6242e-01, -1.3496e+00],\n",
       "          [ 1.8911e-01,  9.4106e-02,  8.4427e-02,  ..., -5.3681e-02,\n",
       "            8.4809e-03,  1.8676e-01]],\n",
       "\n",
       "         [[ 8.4326e+00,  9.7718e+00,  1.0101e+01,  ...,  1.1353e+01,\n",
       "            8.8876e+00,  8.1949e+00],\n",
       "          [ 1.3032e-01, -2.5628e-01,  2.5058e-01,  ..., -3.6818e-01,\n",
       "           -4.8817e-01, -8.9748e-01],\n",
       "          [ 2.0864e-01,  1.8645e-01,  6.1018e-02,  ..., -5.2286e-02,\n",
       "            4.3677e-02,  3.3841e-01]],\n",
       "\n",
       "         [[ 7.9819e+00,  7.5194e+00,  1.0557e+01,  ...,  1.0827e+01,\n",
       "            8.5921e+00,  4.7452e+00],\n",
       "          [ 3.2712e-01,  3.1668e-02,  1.4610e-01,  ..., -4.3967e-01,\n",
       "           -5.5715e-01, -6.4187e-01],\n",
       "          [ 1.0717e-01,  2.7920e-01, -1.7041e-02,  ..., -8.7261e-04,\n",
       "            7.5904e-02,  4.1618e-01]],\n",
       "\n",
       "         ...,\n",
       "\n",
       "         [[ 0.0000e+00,  0.0000e+00,  0.0000e+00,  ...,  0.0000e+00,\n",
       "            0.0000e+00,  0.0000e+00],\n",
       "          [ 0.0000e+00,  0.0000e+00,  0.0000e+00,  ...,  0.0000e+00,\n",
       "            0.0000e+00,  0.0000e+00],\n",
       "          [ 0.0000e+00,  0.0000e+00,  0.0000e+00,  ...,  0.0000e+00,\n",
       "            0.0000e+00,  0.0000e+00]],\n",
       "\n",
       "         [[ 0.0000e+00,  0.0000e+00,  0.0000e+00,  ...,  0.0000e+00,\n",
       "            0.0000e+00,  0.0000e+00],\n",
       "          [ 0.0000e+00,  0.0000e+00,  0.0000e+00,  ...,  0.0000e+00,\n",
       "            0.0000e+00,  0.0000e+00],\n",
       "          [ 0.0000e+00,  0.0000e+00,  0.0000e+00,  ...,  0.0000e+00,\n",
       "            0.0000e+00,  0.0000e+00]],\n",
       "\n",
       "         [[ 0.0000e+00,  0.0000e+00,  0.0000e+00,  ...,  0.0000e+00,\n",
       "            0.0000e+00,  0.0000e+00],\n",
       "          [ 0.0000e+00,  0.0000e+00,  0.0000e+00,  ...,  0.0000e+00,\n",
       "            0.0000e+00,  0.0000e+00],\n",
       "          [ 0.0000e+00,  0.0000e+00,  0.0000e+00,  ...,  0.0000e+00,\n",
       "            0.0000e+00,  0.0000e+00]]],\n",
       "\n",
       "\n",
       "        [[[ 6.3510e+00,  6.5789e+00,  7.4731e+00,  ...,  8.9715e+00,\n",
       "            8.7258e+00,  8.6248e+00],\n",
       "          [-7.0585e-01,  2.7104e-01,  3.3107e-01,  ..., -1.2833e-01,\n",
       "           -8.1594e-01, -1.1867e+00],\n",
       "          [ 1.7055e-01, -5.6985e-02, -9.8139e-02,  ...,  2.4098e-02,\n",
       "            7.3639e-02,  7.6051e-02]],\n",
       "\n",
       "         [[ 5.3626e+00,  6.3264e+00,  8.4127e+00,  ...,  8.7692e+00,\n",
       "            6.6405e+00,  6.2461e+00],\n",
       "          [-1.1346e-01, -2.5157e-02,  1.8497e-01,  ..., -1.1748e-01,\n",
       "           -8.4335e-01, -1.2782e+00],\n",
       "          [ 3.0695e-01, -2.2447e-02, -1.0399e-01,  ...,  5.5406e-02,\n",
       "            2.3549e-01,  2.5537e-01]],\n",
       "\n",
       "         [[ 3.3160e+00,  8.0603e+00,  8.6587e+00,  ...,  8.4311e+00,\n",
       "            5.6888e+00,  3.8806e+00],\n",
       "          [-1.4927e-01,  1.3421e-01, -8.6567e-02,  ..., -1.3262e-02,\n",
       "           -4.3405e-01, -7.6074e-01],\n",
       "          [ 3.8598e-01,  1.6923e-02, -6.1699e-02,  ...,  6.0601e-02,\n",
       "            3.3348e-01,  4.0373e-01]],\n",
       "\n",
       "         ...,\n",
       "\n",
       "         [[ 0.0000e+00,  0.0000e+00,  0.0000e+00,  ...,  0.0000e+00,\n",
       "            0.0000e+00,  0.0000e+00],\n",
       "          [ 0.0000e+00,  0.0000e+00,  0.0000e+00,  ...,  0.0000e+00,\n",
       "            0.0000e+00,  0.0000e+00],\n",
       "          [ 0.0000e+00,  0.0000e+00,  0.0000e+00,  ...,  0.0000e+00,\n",
       "            0.0000e+00,  0.0000e+00]],\n",
       "\n",
       "         [[ 0.0000e+00,  0.0000e+00,  0.0000e+00,  ...,  0.0000e+00,\n",
       "            0.0000e+00,  0.0000e+00],\n",
       "          [ 0.0000e+00,  0.0000e+00,  0.0000e+00,  ...,  0.0000e+00,\n",
       "            0.0000e+00,  0.0000e+00],\n",
       "          [ 0.0000e+00,  0.0000e+00,  0.0000e+00,  ...,  0.0000e+00,\n",
       "            0.0000e+00,  0.0000e+00]],\n",
       "\n",
       "         [[ 0.0000e+00,  0.0000e+00,  0.0000e+00,  ...,  0.0000e+00,\n",
       "            0.0000e+00,  0.0000e+00],\n",
       "          [ 0.0000e+00,  0.0000e+00,  0.0000e+00,  ...,  0.0000e+00,\n",
       "            0.0000e+00,  0.0000e+00],\n",
       "          [ 0.0000e+00,  0.0000e+00,  0.0000e+00,  ...,  0.0000e+00,\n",
       "            0.0000e+00,  0.0000e+00]]],\n",
       "\n",
       "\n",
       "        [[[ 5.5191e+00,  6.0935e+00,  7.2215e+00,  ...,  7.6418e+00,\n",
       "            5.7643e+00,  5.1392e+00],\n",
       "          [ 1.0120e-01,  1.1393e-01, -1.9855e-01,  ..., -2.1726e-01,\n",
       "           -1.8309e-01, -3.0172e-01],\n",
       "          [-1.4325e-01, -2.3323e-02, -8.8047e-02,  ..., -1.1104e-02,\n",
       "           -5.7879e-03, -4.3174e-02]],\n",
       "\n",
       "         [[ 6.3192e+00,  6.2142e+00,  6.7787e+00,  ...,  7.3554e+00,\n",
       "            5.2574e+00,  4.2236e+00],\n",
       "          [-4.6205e-01,  4.1311e-02, -5.7919e-01,  ..., -2.8009e-01,\n",
       "           -1.8707e-01, -2.6308e-01],\n",
       "          [-1.1703e-01, -2.5625e-02, -9.1044e-04,  ...,  2.0873e-02,\n",
       "            5.7359e-03, -9.7025e-02]],\n",
       "\n",
       "         [[ 5.6251e+00,  6.6028e+00,  6.4501e+00,  ...,  6.6986e+00,\n",
       "            5.1023e+00,  4.0884e+00],\n",
       "          [-3.3340e-01,  3.3626e-02, -4.4846e-01,  ..., -2.4137e-01,\n",
       "           -2.1004e-01, -5.3692e-01],\n",
       "          [ 4.7102e-04, -3.2788e-02,  1.1456e-01,  ...,  5.4479e-02,\n",
       "            1.8320e-02, -5.8531e-02]],\n",
       "\n",
       "         ...,\n",
       "\n",
       "         [[ 0.0000e+00,  0.0000e+00,  0.0000e+00,  ...,  0.0000e+00,\n",
       "            0.0000e+00,  0.0000e+00],\n",
       "          [ 0.0000e+00,  0.0000e+00,  0.0000e+00,  ...,  0.0000e+00,\n",
       "            0.0000e+00,  0.0000e+00],\n",
       "          [ 0.0000e+00,  0.0000e+00,  0.0000e+00,  ...,  0.0000e+00,\n",
       "            0.0000e+00,  0.0000e+00]],\n",
       "\n",
       "         [[ 0.0000e+00,  0.0000e+00,  0.0000e+00,  ...,  0.0000e+00,\n",
       "            0.0000e+00,  0.0000e+00],\n",
       "          [ 0.0000e+00,  0.0000e+00,  0.0000e+00,  ...,  0.0000e+00,\n",
       "            0.0000e+00,  0.0000e+00],\n",
       "          [ 0.0000e+00,  0.0000e+00,  0.0000e+00,  ...,  0.0000e+00,\n",
       "            0.0000e+00,  0.0000e+00]],\n",
       "\n",
       "         [[ 0.0000e+00,  0.0000e+00,  0.0000e+00,  ...,  0.0000e+00,\n",
       "            0.0000e+00,  0.0000e+00],\n",
       "          [ 0.0000e+00,  0.0000e+00,  0.0000e+00,  ...,  0.0000e+00,\n",
       "            0.0000e+00,  0.0000e+00],\n",
       "          [ 0.0000e+00,  0.0000e+00,  0.0000e+00,  ...,  0.0000e+00,\n",
       "            0.0000e+00,  0.0000e+00]]],\n",
       "\n",
       "\n",
       "        [[[ 4.7058e+00,  4.7149e+00,  5.7018e+00,  ...,  6.6478e+00,\n",
       "            4.9955e+00,  2.8671e+00],\n",
       "          [-3.3259e-02,  4.1582e-01,  3.8738e-01,  ...,  1.4126e-02,\n",
       "            5.8437e-02,  1.5697e-01],\n",
       "          [-4.5735e-02, -2.2167e-02, -1.1029e-01,  ..., -4.3603e-02,\n",
       "           -7.5431e-02, -6.0246e-02]],\n",
       "\n",
       "         [[ 5.4887e+00,  6.0963e+00,  7.1295e+00,  ...,  6.5711e+00,\n",
       "            5.3194e+00,  3.4767e+00],\n",
       "          [ 1.7999e-02,  4.8894e-01,  2.6706e-01,  ...,  7.1645e-03,\n",
       "           -6.8183e-02,  2.7993e-02],\n",
       "          [-7.3121e-02, -1.8009e-01, -2.2591e-01,  ..., -7.0571e-02,\n",
       "           -9.3827e-02, -8.2116e-02]],\n",
       "\n",
       "         [[ 4.1481e+00,  6.1033e+00,  6.9249e+00,  ...,  6.7567e+00,\n",
       "            5.1257e+00,  3.3471e+00],\n",
       "          [-2.8756e-01,  2.6842e-01, -1.0389e-01,  ..., -2.0041e-01,\n",
       "           -2.5541e-01, -7.9763e-02],\n",
       "          [ 2.4044e-02, -2.5191e-01, -2.0363e-01,  ..., -6.6479e-02,\n",
       "           -5.1303e-02, -3.1049e-02]],\n",
       "\n",
       "         ...,\n",
       "\n",
       "         [[ 0.0000e+00,  0.0000e+00,  0.0000e+00,  ...,  0.0000e+00,\n",
       "            0.0000e+00,  0.0000e+00],\n",
       "          [ 0.0000e+00,  0.0000e+00,  0.0000e+00,  ...,  0.0000e+00,\n",
       "            0.0000e+00,  0.0000e+00],\n",
       "          [ 0.0000e+00,  0.0000e+00,  0.0000e+00,  ...,  0.0000e+00,\n",
       "            0.0000e+00,  0.0000e+00]],\n",
       "\n",
       "         [[ 0.0000e+00,  0.0000e+00,  0.0000e+00,  ...,  0.0000e+00,\n",
       "            0.0000e+00,  0.0000e+00],\n",
       "          [ 0.0000e+00,  0.0000e+00,  0.0000e+00,  ...,  0.0000e+00,\n",
       "            0.0000e+00,  0.0000e+00],\n",
       "          [ 0.0000e+00,  0.0000e+00,  0.0000e+00,  ...,  0.0000e+00,\n",
       "            0.0000e+00,  0.0000e+00]],\n",
       "\n",
       "         [[ 0.0000e+00,  0.0000e+00,  0.0000e+00,  ...,  0.0000e+00,\n",
       "            0.0000e+00,  0.0000e+00],\n",
       "          [ 0.0000e+00,  0.0000e+00,  0.0000e+00,  ...,  0.0000e+00,\n",
       "            0.0000e+00,  0.0000e+00],\n",
       "          [ 0.0000e+00,  0.0000e+00,  0.0000e+00,  ...,  0.0000e+00,\n",
       "            0.0000e+00,  0.0000e+00]]],\n",
       "\n",
       "\n",
       "        [[[ 8.3544e+00,  8.9171e+00,  8.8301e+00,  ...,  1.2203e+01,\n",
       "            1.2095e+01,  1.2149e+01],\n",
       "          [ 5.5267e-01,  5.0998e-01,  6.7583e-01,  ..., -4.4367e-01,\n",
       "           -9.4781e-01, -1.0444e+00],\n",
       "          [ 2.4560e-02, -7.6906e-02,  1.0909e-02,  ...,  1.6418e-01,\n",
       "            2.7506e-02, -1.4586e-01]],\n",
       "\n",
       "         [[ 1.0303e+01,  1.0700e+01,  1.1262e+01,  ...,  1.0346e+01,\n",
       "            9.1693e+00,  9.0212e+00],\n",
       "          [ 7.1216e-01,  2.2609e-01,  8.4789e-01,  ..., -1.2520e-01,\n",
       "           -1.0737e+00, -1.3652e+00],\n",
       "          [-1.5074e-01, -2.2876e-01, -2.0615e-01,  ...,  2.7199e-01,\n",
       "            2.3663e-01,  8.4488e-02]],\n",
       "\n",
       "         [[ 1.0144e+01,  1.0576e+01,  1.0993e+01,  ...,  1.0913e+01,\n",
       "            8.8187e+00,  8.4902e+00],\n",
       "          [ 5.9572e-01,  2.6740e-01,  6.4434e-01,  ...,  2.1801e-01,\n",
       "           -7.4736e-01, -1.6134e+00],\n",
       "          [-4.1409e-01, -2.6908e-01, -3.8469e-01,  ...,  2.2547e-01,\n",
       "            3.9267e-01,  3.9323e-01]],\n",
       "\n",
       "         ...,\n",
       "\n",
       "         [[ 0.0000e+00,  0.0000e+00,  0.0000e+00,  ...,  0.0000e+00,\n",
       "            0.0000e+00,  0.0000e+00],\n",
       "          [ 0.0000e+00,  0.0000e+00,  0.0000e+00,  ...,  0.0000e+00,\n",
       "            0.0000e+00,  0.0000e+00],\n",
       "          [ 0.0000e+00,  0.0000e+00,  0.0000e+00,  ...,  0.0000e+00,\n",
       "            0.0000e+00,  0.0000e+00]],\n",
       "\n",
       "         [[ 0.0000e+00,  0.0000e+00,  0.0000e+00,  ...,  0.0000e+00,\n",
       "            0.0000e+00,  0.0000e+00],\n",
       "          [ 0.0000e+00,  0.0000e+00,  0.0000e+00,  ...,  0.0000e+00,\n",
       "            0.0000e+00,  0.0000e+00],\n",
       "          [ 0.0000e+00,  0.0000e+00,  0.0000e+00,  ...,  0.0000e+00,\n",
       "            0.0000e+00,  0.0000e+00]],\n",
       "\n",
       "         [[ 0.0000e+00,  0.0000e+00,  0.0000e+00,  ...,  0.0000e+00,\n",
       "            0.0000e+00,  0.0000e+00],\n",
       "          [ 0.0000e+00,  0.0000e+00,  0.0000e+00,  ...,  0.0000e+00,\n",
       "            0.0000e+00,  0.0000e+00],\n",
       "          [ 0.0000e+00,  0.0000e+00,  0.0000e+00,  ...,  0.0000e+00,\n",
       "            0.0000e+00,  0.0000e+00]]]], dtype=torch.float64)"
      ]
     },
     "execution_count": 16,
     "metadata": {},
     "output_type": "execute_result"
    }
   ],
   "source": [
    "X"
   ]
  },
  {
   "cell_type": "code",
   "execution_count": 2,
   "metadata": {},
   "outputs": [
    {
     "data": {
      "text/plain": [
       "array([1, 1, 2])"
      ]
     },
     "execution_count": 2,
     "metadata": {},
     "output_type": "execute_result"
    }
   ],
   "source": [
    "import numpy as np\n",
    "a = np.array([[1], [1], [2]])\n",
    "a.reshape(-1)"
   ]
  }
 ],
 "metadata": {
  "interpreter": {
   "hash": "8ab0d968002a578cf1e1aa041721a175249ba338f6da29efa5ef1a380c630376"
  },
  "kernelspec": {
   "display_name": "Python 3.7.11 ('base')",
   "language": "python",
   "name": "python3"
  },
  "language_info": {
   "codemirror_mode": {
    "name": "ipython",
    "version": 3
   },
   "file_extension": ".py",
   "mimetype": "text/x-python",
   "name": "python",
   "nbconvert_exporter": "python",
   "pygments_lexer": "ipython3",
   "version": "3.7.11"
  },
  "orig_nbformat": 4
 },
 "nbformat": 4,
 "nbformat_minor": 2
}
