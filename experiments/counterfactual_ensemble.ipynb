{
  "cells": [
    {
      "cell_type": "markdown",
      "metadata": {
        "id": "XhfGm6Mn6Hr9"
      },
      "source": [
        "## Model Evaluation"
      ]
    },
    {
      "cell_type": "code",
      "execution_count": null,
      "metadata": {
        "colab": {
          "base_uri": "https://localhost:8080/"
        },
        "id": "tGCNtuLs6Hr_",
        "outputId": "ae980dbe-21fc-49f5-e080-a453f2e017b8"
      },
      "outputs": [
        {
          "name": "stdout",
          "output_type": "stream",
          "text": [
            "/content\n"
          ]
        }
      ],
      "source": [
        "import os\n",
        "os.chdir('..')"
      ]
    },
    {
      "cell_type": "code",
      "execution_count": null,
      "metadata": {
        "colab": {
          "base_uri": "https://localhost:8080/"
        },
        "id": "fFO_BduD67dg",
        "outputId": "3345484f-1191-40da-e42b-7852569fab62"
      },
      "outputs": [
        {
          "name": "stdout",
          "output_type": "stream",
          "text": [
            "/content\n"
          ]
        }
      ],
      "source": [
        "%cd /content"
      ]
    },
    {
      "cell_type": "code",
      "execution_count": null,
      "metadata": {
        "colab": {
          "base_uri": "https://localhost:8080/"
        },
        "id": "tUMKPlv86OYF",
        "outputId": "dcdbe662-1329-497c-e61f-7661929c524f"
      },
      "outputs": [
        {
          "output_type": "stream",
          "name": "stdout",
          "text": [
            "Mounted at /content/drive\n"
          ]
        }
      ],
      "source": [
        "from google.colab import drive\n",
        "drive.mount('/content/drive')"
      ]
    },
    {
      "cell_type": "markdown",
      "metadata": {
        "id": "OXTHszwi478D"
      },
      "source": [
        "# Copy Dataset"
      ]
    },
    {
      "cell_type": "code",
      "execution_count": null,
      "metadata": {
        "id": "JKXsOHEV7pOk"
      },
      "outputs": [],
      "source": [
        "!cp /content/drive/MyDrive/11785/project/rawdata /content/ -r"
      ]
    },
    {
      "cell_type": "markdown",
      "metadata": {
        "id": "Zdmrro60535B"
      },
      "source": [
        "# Training"
      ]
    },
    {
      "cell_type": "code",
      "execution_count": null,
      "metadata": {
        "colab": {
          "base_uri": "https://localhost:8080/"
        },
        "id": "SF-A7UrW6oOn",
        "outputId": "bdc0b649-36e0-48b1-bbdd-588eb7a8d622"
      },
      "outputs": [
        {
          "name": "stdout",
          "output_type": "stream",
          "text": [
            "/content/drive/MyDrive/11785/project\n"
          ]
        }
      ],
      "source": [
        "%cd /content/drive/MyDrive/11785/project"
      ]
    },
    {
      "cell_type": "code",
      "execution_count": null,
      "metadata": {
        "id": "ZiJXc7_A7YCg",
        "colab": {
          "base_uri": "https://localhost:8080/"
        },
        "outputId": "245dc4ad-0c39-4d1b-fba3-79ab4a29e1eb"
      },
      "outputs": [
        {
          "output_type": "stream",
          "name": "stdout",
          "text": [
            "Collecting pytorch-nlp\n",
            "  Downloading pytorch_nlp-0.5.0-py3-none-any.whl (90 kB)\n",
            "\u001b[?25l\r\u001b[K     |███▋                            | 10 kB 44.0 MB/s eta 0:00:01\r\u001b[K     |███████▎                        | 20 kB 46.2 MB/s eta 0:00:01\r\u001b[K     |███████████                     | 30 kB 23.4 MB/s eta 0:00:01\r\u001b[K     |██████████████▌                 | 40 kB 14.6 MB/s eta 0:00:01\r\u001b[K     |██████████████████▏             | 51 kB 12.7 MB/s eta 0:00:01\r\u001b[K     |█████████████████████▉          | 61 kB 14.9 MB/s eta 0:00:01\r\u001b[K     |█████████████████████████▌      | 71 kB 14.4 MB/s eta 0:00:01\r\u001b[K     |█████████████████████████████   | 81 kB 15.7 MB/s eta 0:00:01\r\u001b[K     |████████████████████████████████| 90 kB 6.7 MB/s \n",
            "\u001b[?25hRequirement already satisfied: numpy in /usr/local/lib/python3.7/dist-packages (from pytorch-nlp) (1.21.6)\n",
            "Requirement already satisfied: tqdm in /usr/local/lib/python3.7/dist-packages (from pytorch-nlp) (4.64.0)\n",
            "Installing collected packages: pytorch-nlp\n",
            "Successfully installed pytorch-nlp-0.5.0\n",
            "Collecting python_speech_features\n",
            "  Downloading python_speech_features-0.6.tar.gz (5.6 kB)\n",
            "Building wheels for collected packages: python-speech-features\n",
            "  Building wheel for python-speech-features (setup.py) ... \u001b[?25l\u001b[?25hdone\n",
            "  Created wheel for python-speech-features: filename=python_speech_features-0.6-py3-none-any.whl size=5888 sha256=3fba7d218e3b4d35b31a041501d1150f5979fa4a87f1a0308f17d340f125d169\n",
            "  Stored in directory: /root/.cache/pip/wheels/b0/0e/94/28cd6afa3cd5998a63eef99fe31777acd7d758f59cf24839eb\n",
            "Successfully built python-speech-features\n",
            "Installing collected packages: python-speech-features\n",
            "Successfully installed python-speech-features-0.6\n"
          ]
        }
      ],
      "source": [
        "!pip install pytorch-nlp\n",
        "!pip install python_speech_features"
      ]
    },
    {
      "cell_type": "code",
      "execution_count": null,
      "metadata": {
        "colab": {
          "base_uri": "https://localhost:8080/"
        },
        "id": "15nZ5kEC-NHj",
        "outputId": "f4529041-bba3-4fae-ffe0-f936ac0a49ff"
      },
      "outputs": [
        {
          "output_type": "stream",
          "name": "stdout",
          "text": [
            "/usr/local/lib/python3.7/dist-packages/torch/nn/functional.py:1320: UserWarning: dropout2d: Received a 2-D input to dropout2d, which is deprecated and will result in an error in a future release. To retain the behavior and silence this warning, please use dropout instead. Note that dropout2d exists to provide channel-wise dropout on inputs with 2 spatial dimensions, a channel dimension, and an optional batch dimension (i.e. 3D or 4D inputs).\n",
            "  warnings.warn(warn_msg)\n",
            "*****************************************************************\n",
            "Evaluation on Test Set:\n",
            "Test cost: 1.23\n",
            "Test accuracy: 0.5\n",
            "Test UAR: 0.5515\n",
            "Test Confusion Matrix:[\"ang\",\"sad\",\"hap\",\"neu\"]\n",
            "[[22  1  4  2]\n",
            " [ 7 71 10 22]\n",
            " [17  5 26 23]\n",
            " [35 42 46 95]]\n",
            "Fairness Scores (in terms of equal opportunities):\n",
            "[\"ang\",\"sad\",\"hap\",\"neu\"]\n",
            "[0.6122449  0.65994854 0.63765182 0.90984513]\n",
            "*****************************************************************\n"
          ]
        }
      ],
      "source": [
        "!python /content/drive/MyDrive/11785/project/train.py"
      ]
    },
    {
      "cell_type": "code",
      "execution_count": null,
      "metadata": {
        "colab": {
          "base_uri": "https://localhost:8080/"
        },
        "id": "wbSxqwx0N3vB",
        "outputId": "086eaa1b-416b-4a0e-9cdf-672bbd821ec6"
      },
      "outputs": [
        {
          "name": "stdout",
          "output_type": "stream",
          "text": [
            "[1 3 1 3 3 1 0 3 3 0 2 3 2 2 3 2 3 3 3 1 3 0 1 1 1 2 1 3 3 3 1 0 1 3 3 1 3\n",
            " 1 2 1 2 2 3 1 1 3 2 1 3 3 3 2 3 3 2 1 1 3 2 2 2 3 3 3 3 3 2 1 3 1 2 1 2 2\n",
            " 3 3 1 1 1 2 3 3 1 3 0 3 3 3 3 2 3 2 1 3 3 2 1 3 0 3 3 3 3 1 3 2 2 3 2 3 1\n",
            " 1 0 3 0 0 1 3 3 1 1 3 1 3 2 1 1 3 3 0 0 3 1 3 3 1 3 2 3 2 0 1 3 3 3 3 2 1\n",
            " 3 3 3 3 3 1 3 2 1 3 3 1 3 3 3 2 3 3 1 3 3 1 3 3 3 1 3 1 1 3 3 3 3 2 1 3 2\n",
            " 2 3 1 1 1 3 3 1 3 3 2 3 1 1 3 2 3 3 2 2 3 1 1 1 3 3 3 1 2 3 3 3 3 1 1 1 3\n",
            " 3 3 3 1 3 3 2 3 1 2 2 3 0 1 2 2 1 3 3 3 3 3 1 2 2 3 1 3 2 1 3 1 1 2 3 1 2\n",
            " 3 1 3 1 3 0 1 3 3 3 1 3 3 2 3 3 3 1 3 2 1 3 3 1 2 2 0 3 3 3 3 2 2 3 2 3 3\n",
            " 3 3 3 3 2 0 1 3 2 2 1 3 3 2 3 3 3 3 2 1 3 1 2 3 3 3 3 2 3 3 1 3 3 3 3 1 2\n",
            " 3 3 0 3 3 2 3 2 3 3 0 0 1 1 3 0 3 1 2 1 3 3 1 0 3 3 1 3 3 1 1 1 1 0 1 1 1\n",
            " 3 2 2 1 1 3 0 1 3 2 2 1 3 3 3 3 3 0 1 0 1 0 3 1 3 1 2 1 3 1 3 1 3 1 3 3 2\n",
            " 1 3 1 3 2 3 2 3 1 1 3 3 2 3 3 3 2 0 1 1 3]\n"
          ]
        }
      ],
      "source": [
        "label = np.load(\"/content/drive/MyDrive/11785/project/rawdata/IEMOCAP_test_label_converted.npy\", allow_pickle=True).reshape(-1)\n",
        "for i in range(len(label)):\n",
        "  if label[i] > 3:\n",
        "    label[i] = 3\n",
        "print(label)\n",
        "f = open(\"/content/drive/MyDrive/11785/project/rawdata/IEMOCAP_test_label_converted.npy\",'wb')\n",
        "np.save(f, label)\n",
        "f.close()"
      ]
    },
    {
      "cell_type": "code",
      "execution_count": null,
      "metadata": {
        "colab": {
          "base_uri": "https://localhost:8080/"
        },
        "id": "gWvVpcw-V7Df",
        "outputId": "5dde33eb-3ee6-4310-b172-a85dabbc0f48"
      },
      "outputs": [
        {
          "name": "stdout",
          "output_type": "stream",
          "text": [
            "[1 3 1 3 3 1 0 3 3 0 2 3 2 2 3 2 3 3 3 1 3 0 1 1 1 2 1 3 3 3 1 0 1 3 3 1 3\n",
            " 1 2 1 2 2 3 1 1 3 2 1 3 3 3 2 3 3 2 1 1 3 2 2 2 3 3 3 3 3 2 1 3 1 2 1 2 2\n",
            " 3 3 1 1 1 2 3 3 1 3 0 3 3 3 3 2 3 2 1 3 3 2 1 3 0 3 3 3 3 1 3 2 2 3 2 3 1\n",
            " 1 0 3 0 0 1 3 3 1 1 3 1 3 2 1 1 3 3 0 0 3 1 3 3 1 3 2 3 2 0 1 3 3 3 3 2 1\n",
            " 3 3 3 3 3 1 3 2 1 3 3 1 3 3 3 2 3 3 1 3 3 1 3 3 3 1 3 1 1 3 3 3 3 2 1 3 2\n",
            " 2 3 1 1 1 3 3 1 3 3 2 3 1 1 3 2 3 3 2 2 3 1 1 1 3 3 3 1 2 3 3 3 3 1 1 1 3\n",
            " 3 3 3 1 3 3 2 3 1 2 2 3 0 1 2 2 1 3 3 3 3 3 1 2 2 3 1 3 2 1 3 1 1 2 3 1 2\n",
            " 3 1 3 1 3 0 1 3 3 3 1 3 3 2 3 3 3 1 3 2 1 3 3 1 2 2 0 3 3 3 3 2 2 3 2 3 3\n",
            " 3 3 3 3 2 0 1 3 2 2 1 3 3 2 3 3 3 3 2 1 3 1 2 3 3 3 3 2 3 3 1 3 3 3 3 1 2\n",
            " 3 3 0 3 3 2 3 2 3 3 0 0 1 1 3 0 3 1 2 1 3 3 1 0 3 3 1 3 3 1 1 1 1 0 1 1 1\n",
            " 3 2 2 1 1 3 0 1 3 2 2 1 3 3 3 3 3 0 1 0 1 0 3 1 3 1 2 1 3 1 3 1 3 1 3 3 2\n",
            " 1 3 1 3 2 3 2 3 1 1 3 3 2 3 3 3 2 0 1 1 3]\n"
          ]
        }
      ],
      "source": [
        "label = np.load(\"/content/rawdata/IEMOCAP_test_label_converted.npy\", allow_pickle=True).reshape(-1)\n",
        "print(label)"
      ]
    },
    {
      "cell_type": "code",
      "execution_count": null,
      "metadata": {
        "id": "LOaRAvRx6HsB"
      },
      "outputs": [],
      "source": [
        "import pickle\n",
        "import numpy as np\n",
        "import torch\n",
        "import torch.nn as nn\n",
        "from torch.utils.data import DataLoader\n",
        "from train import test\n",
        "from datasets import IEMOCAPEval"
      ]
    },
    {
      "cell_type": "code",
      "execution_count": null,
      "metadata": {
        "id": "2M67A4Vt8k3L"
      },
      "outputs": [],
      "source": [
        ""
      ]
    },
    {
      "cell_type": "markdown",
      "metadata": {
        "id": "7oKEcruz6HsB"
      },
      "source": [
        "### Setting up test dataset"
      ]
    },
    {
      "cell_type": "code",
      "execution_count": null,
      "metadata": {
        "id": "NTOv5bX-6HsC"
      },
      "outputs": [],
      "source": [
        "test_dataset = IEMOCAPEval(partition='test')\n",
        "test_loader = DataLoader(test_dataset, batch_size=128, shuffle=False, num_workers=1, pin_memory=True)\n",
        "\n",
        "CHECKPOINT_MODEL_DIR = \"checkpoint/20220424_100531/model_acrnn_locked_dropout_act_reg0.3_0.5406.pth\"\n",
        "model = torch.load(CHECKPOINT_MODEL_DIR).cuda()\n",
        "criterion = nn.CrossEntropyLoss()"
      ]
    },
    {
      "cell_type": "markdown",
      "metadata": {
        "id": "nHDqfudm6HsC"
      },
      "source": [
        "### Evaluate model on test set"
      ]
    },
    {
      "cell_type": "code",
      "execution_count": null,
      "metadata": {
        "id": "9FWsdfUG6HsC",
        "outputId": "95133c66-8afb-4979-c11d-18c335bce310"
      },
      "outputs": [
        {
          "name": "stdout",
          "output_type": "stream",
          "text": [
            "*****************************************************************\n",
            "Evaluation on Test Set:\n",
            "Test cost: 1.3\n",
            "Test accuracy: 0.435\n",
            "Test UAR: 0.5062\n",
            "Test Confusion Matrix:[\"ang\",\"sad\",\"hap\",\"neu\"]\n",
            "[[25  2  1  1]\n",
            " [ 9 71 14 16]\n",
            " [29 12 11 19]\n",
            " [35 69 35 79]]\n",
            "Fairness Scores (in terms of equal opportunities):\n",
            "[\"ang\",\"sad\",\"hap\",\"neu\"]\n",
            "[0.84183673 0.83349057 0.69333333 0.95302927]\n",
            "*****************************************************************\n"
          ]
        }
      ],
      "source": [
        "test(model, test_loader, test_dataset, criterion)"
      ]
    },
    {
      "cell_type": "code",
      "execution_count": null,
      "metadata": {
        "colab": {
          "base_uri": "https://localhost:8080/"
        },
        "id": "1N2HmNVuCIZM",
        "outputId": "dafc1cf1-127e-431a-dffb-27c072822508"
      },
      "outputs": [
        {
          "name": "stdout",
          "output_type": "stream",
          "text": [
            "<utils.training_tracker.TrainingTracker object at 0x7fbe983c6d90>\n"
          ]
        }
      ],
      "source": [
        "import pickle as pkl\n",
        "import pandas as pd\n",
        "with open(\"/content/drive/MyDrive/11785/project/log/log_20220428_030303_acrnn_conterfactural_.pkl\", \"rb\") as f:\n",
        "    f = pkl.load(f)\n",
        "print(f) \n",
        "   \n",
        "# df = pd.DataFrame(f)\n",
        "# df.to_csv(r'/content/drive/MyDrive/11785/project/log/log_20220428_030303_acrnn_conterfactural.csv')"
      ]
    }
  ],
  "metadata": {
    "accelerator": "GPU",
    "colab": {
      "background_execution": "on",
      "collapsed_sections": [],
      "machine_shape": "hm",
      "name": "model_evaluation.ipynb",
      "provenance": []
    },
    "interpreter": {
      "hash": "2f394aca7ca06fed1e6064aef884364492d7cdda3614a461e02e6407fc40ba69"
    },
    "kernelspec": {
      "display_name": "Python 3.8.10 ('base')",
      "language": "python",
      "name": "python3"
    },
    "language_info": {
      "codemirror_mode": {
        "name": "ipython",
        "version": 3
      },
      "file_extension": ".py",
      "mimetype": "text/x-python",
      "name": "python",
      "nbconvert_exporter": "python",
      "pygments_lexer": "ipython3",
      "version": "3.8.10"
    }
  },
  "nbformat": 4,
  "nbformat_minor": 0
}